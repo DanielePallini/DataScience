{
 "cells": [
  {
   "cell_type": "code",
   "execution_count": 1,
   "id": "0f803c05",
   "metadata": {},
   "outputs": [],
   "source": [
    "from bs4 import BeautifulSoup\n",
    "import requests\n",
    "import re\n",
    "import json\n",
    "from PIL import Image\n",
    "from io import BytesIO\n",
    "import urllib.request\n",
    "import emoji"
   ]
  },
  {
   "cell_type": "markdown",
   "id": "bd4712e8",
   "metadata": {},
   "source": [
    "# Extraction from tag with property"
   ]
  },
  {
   "cell_type": "code",
   "execution_count": 2,
   "id": "3b3eb6fc",
   "metadata": {},
   "outputs": [],
   "source": [
    "def extract(soup,tag,prop):\n",
    "    extraction = soup.find(tag, prop)\n",
    "    extraction = extraction.text\n",
    "    extraction = \" \".join(extraction.split())\n",
    "    return extraction"
   ]
  },
  {
   "cell_type": "markdown",
   "id": "1f2c9646",
   "metadata": {},
   "source": [
    "# Search Player"
   ]
  },
  {
   "cell_type": "code",
   "execution_count": 9,
   "id": "cdc1fcb6",
   "metadata": {},
   "outputs": [
    {
     "name": "stdout",
     "output_type": "stream",
     "text": [
      "/bryan-cristante/profil/spieler/199248\n"
     ]
    }
   ],
   "source": [
    "name = \"cristante\"\n",
    "name = name.replace(' ','+')    \n",
    "url = requests.get(\"https://www.transfermarkt.it/schnellsuche/ergebnis/schnellsuche?query=\"+name,headers={'User-Agent': 'Custom'})\n",
    "htmltext = url.text\n",
    "soup = BeautifulSoup(htmltext,features=\"lxml\")\n",
    "playercode = soup.find(\"div\", {\"id\" : \"yw0\"})\n",
    "playercode = playercode.find(\"tr\", {\"class\" : \"odd\"})\n",
    "if playercode != None:\n",
    "    playercode = playercode.find(\"td\", {\"class\" : \"hauptlink\"})\n",
    "    playercode = playercode.find(\"a\")\n",
    "    playercode = playercode.get('href')\n",
    "    print(playercode)\n",
    "else: \n",
    "    print('Not Found')\n",
    "#soup.find_all(\"tr\", {\"class\" : \"odd\"})"
   ]
  },
  {
   "cell_type": "code",
   "execution_count": 10,
   "id": "7f6f4564",
   "metadata": {},
   "outputs": [
    {
     "name": "stdout",
     "output_type": "stream",
     "text": [
      "#4\n",
      "Bryan Cristante\n"
     ]
    }
   ],
   "source": [
    "\n",
    "player = 'https://www.transfermarkt.it'+str(playercode)\n",
    "urlPlayer = requests.get(player,headers={'User-Agent': 'Custom'})\n",
    "\n",
    "htmlplayer = urlPlayer.text\n",
    "soup = BeautifulSoup(htmlplayer)#make soup that is parse-able by bs\n",
    "marketValue = soup.find(\"a\", {\"class\" : \"data-header__market-value-wrapper\"})\n",
    "\n",
    "playername = extract(soup,\"h1\", {\"class\" : \"data-header__headline-wrapper\"})\n",
    "\n",
    "num = playername.split(' ')[0]\n",
    "match = re.search(' ', playername)\n",
    "if match:\n",
    "    nome = playername[match.end():]\n",
    "else:\n",
    "    nome = ''\n",
    "    \n",
    "print(num)\n",
    "print(nome)"
   ]
  },
  {
   "cell_type": "code",
   "execution_count": 27,
   "id": "ee68a1b6",
   "metadata": {},
   "outputs": [
    {
     "name": "stdout",
     "output_type": "stream",
     "text": [
      "YAYRisultati società                    - 65 risultati\n"
     ]
    }
   ],
   "source": [
    "soup = soup.find(\"main\")\n",
    "tables = soup.findAll(\"div\",{\"class\" : \"row\"})\n",
    "for item in tables:\n",
    "    result = item.find(\"h2\",{\"class\" : \"content-box-headline\"}).text\n",
    "    if \"Risultati società\" in result:\n",
    "        print(\"YAY\" + result)\n"
   ]
  },
  {
   "cell_type": "code",
   "execution_count": null,
   "id": "461d7cea",
   "metadata": {},
   "outputs": [],
   "source": []
  },
  {
   "cell_type": "markdown",
   "id": "0b25dcea",
   "metadata": {},
   "source": [
    "# Search Team"
   ]
  },
  {
   "cell_type": "code",
   "execution_count": 3,
   "id": "d77d434b",
   "metadata": {},
   "outputs": [
    {
     "name": "stdout",
     "output_type": "stream",
     "text": [
      "/juventus-turin/startseite/verein/506\n"
     ]
    }
   ],
   "source": [
    "name = \"Juventus\"\n",
    "name = name.replace(' ','+')    \n",
    "url = requests.get(\"https://www.transfermarkt.it/schnellsuche/ergebnis/schnellsuche?query=\"+name,headers={'User-Agent': 'Custom'})\n",
    "htmltext = url.text\n",
    "soup = BeautifulSoup(htmltext,features=\"lxml\")#make soup that is parse-able by bs\n",
    "soup = soup.find(\"main\")\n",
    "tables = soup.findAll(\"div\",{\"class\" : \"row\"})\n",
    "check = False\n",
    "for item in tables:\n",
    "    result = item.find(\"h2\",{\"class\" : \"content-box-headline\"}).text\n",
    "    if \"Risultati società\" in result:\n",
    "        check = True\n",
    "        soup = item\n",
    "        break\n",
    "if check == False:\n",
    "    print('Not Found')\n",
    "else:\n",
    "    squadcode = soup.find(\"div\", {\"class\" : \"grid-view\"})\n",
    "    if squadcode != None:\n",
    "        squadcode = squadcode.find(\"tr\", {\"class\" : \"odd\"})\n",
    "        squadcode = squadcode.find(\"td\", {\"class\" : \"hauptlink\"})\n",
    "        squadcode = squadcode.find(\"a\")\n",
    "        squadcode = squadcode.get('href')\n",
    "        print(squadcode)\n",
    "    else: \n",
    "        print('Not Found')\n"
   ]
  },
  {
   "cell_type": "code",
   "execution_count": 4,
   "id": "058c9258",
   "metadata": {},
   "outputs": [
    {
     "name": "stdout",
     "output_type": "stream",
     "text": [
      "Wojciech Szczesny Portiere 18/apr/1990 (32) Polonia 13,00 mln € \n",
      "Mattia Perin Portiere 10/nov/1992 (30) Italia 4,00 mln € \n",
      "Carlo Pinsoglio Portiere 16/mar/1990 (32) Italia 300 mila € \n",
      "\n",
      "Bremer Difensore centrale 18/mar/1997 (25) Brasile 40,00 mln € \n",
      "Federico Gatti Difensore centrale 24/giu/1998 (24) Italia 5,00 mln € \n",
      "Leonardo Bonucci Difensore centrale 01/mag/1987 (35) Italia 4,00 mln € \n",
      "Daniele Rugani Difensore centrale 29/lug/1994 (28) Italia 2,50 mln € \n",
      "Alex Sandro Terzino sinistro 26/gen/1991 (32) Brasile 4,50 mln € \n",
      "Danilo Terzino destro 15/lug/1991 (31) Brasile 12,00 mln € \n",
      "Mattia De Sciglio Terzino destro 20/ott/1992 (30) Italia 4,50 mln € \n",
      "\n",
      "Manuel Locatelli Mediano 08/gen/1998 (25) Italia 30,00 mln € \n",
      "Leandro Paredes Mediano 29/giu/1994 (28) Argentina 15,00 mln € \n",
      "Paul Pogba Centrale 15/mar/1993 (29) Francia 35,00 mln € \n",
      "Adrien Rabiot Centrale 03/apr/1995 (27) Francia 25,00 mln € \n",
      "Fabio Miretti Centrale 03/ago/2003 (19) Italia 15,00 mln € \n",
      "Nicolò Fagioli Centrale 12/feb/2001 (22) Italia 8,00 mln € \n",
      "Juan Cuadrado Centrocampista di destra 26/mag/1988 (34) Colombia 5,00 mln € \n",
      "Filip Kostić Centrocampista di sinistra 01/nov/1992 (30) Serbia 24,00 mln € \n",
      "Mohamed Ihattaren Trequartista 12/feb/2002 (21) Olanda 3,00 mln € \n",
      "\n",
      "Federico Chiesa Ala sinistra 25/ott/1997 (25) Italia 60,00 mln € \n",
      "Samuel Iling Junior Ala sinistra 04/ott/2003 (19) Inghilterra 3,50 mln € \n",
      "Ángel Di María Ala destra 14/feb/1988 (35) Argentina 10,00 mln € \n",
      "Matías Soulé Ala destra 15/apr/2003 (19) Argentina 4,00 mln € \n",
      "Dusan Vlahovic Punta centrale 28/gen/2000 (23) Serbia 80,00 mln € \n",
      "Moise Kean Punta centrale 28/feb/2000 (22) Italia 20,00 mln € \n",
      "Arkadiusz Milik Punta centrale 28/feb/1994 (28) Polonia 10,00 mln € \n",
      "Kaio Jorge Punta centrale 24/gen/2002 (21) Brasile 5,00 mln € \n",
      "\n"
     ]
    }
   ],
   "source": [
    "\n",
    "squad = 'https://www.transfermarkt.it'+str(squadcode)\n",
    "urlPlayer = requests.get(squad,headers={'User-Agent': 'Custom'})\n",
    "\n",
    "htmlplayer = urlPlayer.text\n",
    "soup = BeautifulSoup(htmlplayer,features=\"lxml\")\n",
    "marketValue = soup.find(\"a\", {\"class\" : \"data-header__market-value-wrapper\"})\n",
    "\n",
    "roster = soup.find(\"div\", {\"id\" : \"yw1\"})\n",
    "roster = roster.find(\"tbody\")\n",
    "players = roster.findAll(\"tr\",{\"class\" : ['odd', 'even']})\n",
    "goalkeepers = \"\"\n",
    "defenders = \"\"\n",
    "midfielders = \"\"\n",
    "forwards = \"\"\n",
    "for player in players:\n",
    "    role = player.find('td').get('title')\n",
    "    table = player.find(\"table\",{\"class\":\"inline-table\"})\n",
    "    nome = table.find(\"td\",{\"class\":\"hauptlink\"}).find(\"a\")\n",
    "    nome = nome.text\n",
    "    ruolo = table.findAll(\"tr\")\n",
    "    ruolo = ruolo[1].text\n",
    "    columns = player.findAll(\"td\",{\"class\":\"zentriert\"})\n",
    "    birthDate = columns[1].text\n",
    "    flag = columns[2].find(\"img\", {\"class\" : \"flaggenrahmen\"}).get('title')\n",
    "    marketValue = player.find(\"td\", {\"class\" : \"rechts hauptlink\"}).text\n",
    "    if role == 'Porta':\n",
    "        goalkeepers += (nome + ' ' + ruolo + ' ' + birthDate + ' ' + flag + ' ' + marketValue + '\\n')\n",
    "    elif role == 'Difesa':\n",
    "        defenders += (nome + ' ' + ruolo + ' ' + birthDate + ' ' + flag + ' ' + marketValue + '\\n')\n",
    "    elif role == 'Centrocampo':\n",
    "        midfielders += (nome + ' ' + ruolo + ' ' + birthDate + ' ' + flag + ' ' + marketValue + '\\n')\n",
    "    elif role == 'Attaccante':\n",
    "        forwards += (nome + ' ' + ruolo + ' ' + birthDate + ' ' + flag + ' ' + marketValue + '\\n')   \n",
    "\n",
    "print(goalkeepers)\n",
    "print(defenders)\n",
    "print(midfielders)\n",
    "print(forwards)"
   ]
  },
  {
   "cell_type": "code",
   "execution_count": 7,
   "id": "1f9a306e",
   "metadata": {},
   "outputs": [
    {
     "data": {
      "text/plain": [
       "['442,30 mln ', ' \\n                Valore rosa/e            \\n']"
      ]
     },
     "execution_count": 7,
     "metadata": {},
     "output_type": "execute_result"
    }
   ],
   "source": [
    "marketValue = soup.find(\"a\", {\"class\" : \"data-header__market-value-wrapper\"}).text\n",
    "marketValue.split('€')\n"
   ]
  },
  {
   "cell_type": "code",
   "execution_count": null,
   "id": "05b1273f",
   "metadata": {},
   "outputs": [],
   "source": []
  },
  {
   "cell_type": "code",
   "execution_count": 9,
   "id": "35c66be7",
   "metadata": {},
   "outputs": [
    {
     "name": "stdout",
     "output_type": "stream",
     "text": [
      "https://www.transfermarkt.it/schnellsuche/ergebnis/schnellsuche?query=kessie\n"
     ]
    }
   ],
   "source": [
    "print(\"https://www.transfermarkt.it/schnellsuche/ergebnis/schnellsuche?query=\"+\"kessie\")"
   ]
  },
  {
   "cell_type": "markdown",
   "id": "a77ca955",
   "metadata": {},
   "source": [
    "# Player Info"
   ]
  },
  {
   "cell_type": "code",
   "execution_count": 10,
   "id": "7d46ac29",
   "metadata": {},
   "outputs": [],
   "source": [
    "marketValue = marketValue.text"
   ]
  },
  {
   "cell_type": "code",
   "execution_count": 15,
   "id": "7327976e",
   "metadata": {},
   "outputs": [
    {
     "data": {
      "text/plain": [
       "'80,00 mln €'"
      ]
     },
     "execution_count": 15,
     "metadata": {},
     "output_type": "execute_result"
    }
   ],
   "source": [
    "maxValue = soup.find(\"div\", {\"class\" : \"tm-player-market-value-development__max-value\"})\n",
    "maxValue = maxValue.text"
   ]
  },
  {
   "cell_type": "code",
   "execution_count": null,
   "id": "4515872b",
   "metadata": {},
   "outputs": [],
   "source": []
  },
  {
   "cell_type": "code",
   "execution_count": 13,
   "id": "de912037",
   "metadata": {},
   "outputs": [
    {
     "data": {
      "text/plain": [
       "' 11/nov/2022'"
      ]
     },
     "execution_count": 13,
     "metadata": {},
     "output_type": "execute_result"
    }
   ],
   "source": [
    "marketValue = marketValue.split('€')\n",
    "value = marketValue[0]\n",
    "marketValue[1] = marketValue[1].split(':')\n",
    "update = marketValue[1][1]"
   ]
  },
  {
   "cell_type": "code",
   "execution_count": 6,
   "id": "ce789acd",
   "metadata": {
    "scrolled": true
   },
   "outputs": [],
   "source": [
    "team = soup.findAll(\"span\", {\"class\" : \"info-table__content info-table__content--bold info-table__content--flex\"})\n",
    "team = team[1]\n",
    "team = team.findAll(\"a\")\n",
    "team = team[1]\n",
    "team = team.text"
   ]
  },
  {
   "cell_type": "code",
   "execution_count": 21,
   "id": "d290ba7c",
   "metadata": {},
   "outputs": [
    {
     "data": {
      "text/plain": [
       "'Data di nascita: 22/ago/1997 (25)'"
      ]
     },
     "execution_count": 21,
     "metadata": {},
     "output_type": "execute_result"
    }
   ],
   "source": [
    "birthDate = extract(soup,\"span\", {\"itemprop\" : \"birthDate\"})\n",
    "birthDate = \"Data di nascita: \"+ birthDate\n",
    "birthDate"
   ]
  },
  {
   "cell_type": "code",
   "execution_count": 22,
   "id": "8db4971f",
   "metadata": {},
   "outputs": [
    {
     "data": {
      "text/plain": [
       "'Argentina'"
      ]
     },
     "execution_count": 22,
     "metadata": {},
     "output_type": "execute_result"
    }
   ],
   "source": [
    "flag = soup.find(\"div\", {\"class\" : \"data-header__info-box\"})\n",
    "flag = flag.find(\"img\", {\"class\" : \"flaggenrahmen\"})\n",
    "flag = flag.get('title')\n",
    "flag"
   ]
  },
  {
   "cell_type": "code",
   "execution_count": 19,
   "id": "0f52bde6",
   "metadata": {},
   "outputs": [
    {
     "data": {
      "text/plain": [
       "'San Vito al Tagliamento'"
      ]
     },
     "execution_count": 19,
     "metadata": {},
     "output_type": "execute_result"
    }
   ],
   "source": [
    "birthPlace = soup.find(\"span\", {\"itemprop\" : \"birthPlace\"})\n",
    "birthPlace = birthPlace.find(\"span\")\n",
    "birthPlace.get('title')\n",
    "# print(\"Luogo di nascita: \" + birthPlace + \" (\" + flag + \")\")\n"
   ]
  },
  {
   "cell_type": "code",
   "execution_count": null,
   "id": "7e87d6e7",
   "metadata": {},
   "outputs": [],
   "source": []
  },
  {
   "cell_type": "code",
   "execution_count": 31,
   "id": "e6862fe9",
   "metadata": {},
   "outputs": [
    {
     "data": {
      "text/plain": [
       "'Altezza: 1,98 m'"
      ]
     },
     "execution_count": 31,
     "metadata": {},
     "output_type": "execute_result"
    }
   ],
   "source": [
    "height = extract(soup,\"span\", {\"itemprop\" : \"height\"})\n",
    "height = \"Altezza: \"+ height\n",
    "height\n"
   ]
  },
  {
   "cell_type": "code",
   "execution_count": 32,
   "id": "54391e4d",
   "metadata": {},
   "outputs": [
    {
     "data": {
      "text/plain": [
       "'Ruolo: Portiere'"
      ]
     },
     "execution_count": 32,
     "metadata": {},
     "output_type": "execute_result"
    }
   ],
   "source": [
    "information = soup.find(\"div\", {\"class\" : \"data-header__details\"})\n",
    "position = information.findAll(\"ul\", {\"class\" : \"data-header__items\"})\n",
    "position = position[1].findAll(\"li\")\n",
    "position = extract(position[1],\"span\",{\"class\":\"data-header__content\"})\n",
    "position = \"Ruolo: \"+ position\n",
    "position"
   ]
  },
  {
   "cell_type": "code",
   "execution_count": 7,
   "id": "bef6195d",
   "metadata": {},
   "outputs": [
    {
     "data": {
      "image/png": "[encoded data removed]",
      "text/plain": [
       "<PIL.JpegImagePlugin.JpegImageFile image mode=RGB size=139x181>"
      ]
     },
     "execution_count": 7,
     "metadata": {},
     "output_type": "execute_result"
    }
   ],
   "source": [
    "photo = soup.find(\"div\",{\"class\":\"data-header__profile-container\"})\n",
    "photo = photo.find(\"img\", {\"class\" : \"data-header__profile-image\"})\n",
    "photo = photo.get('src')\n",
    "\n",
    "urllib.request.urlretrieve(photo,\"gfg.png\")\n",
    "img = Image.open(\"gfg.png\")\n",
    "img"
   ]
  },
  {
   "cell_type": "markdown",
   "id": "d35d6bc4",
   "metadata": {},
   "source": [
    "# Player Stats"
   ]
  },
  {
   "cell_type": "code",
   "execution_count": 5,
   "id": "f66d70ee",
   "metadata": {
    "scrolled": false
   },
   "outputs": [
    {
     "name": "stdout",
     "output_type": "stream",
     "text": [
      "Nome giocatore: Lautaro Martínez\n",
      "Numero Maglia: #10\n",
      "Competizione: Serie A\n",
      "Partite giocate: 21\n",
      "Goal fatti: 12\n",
      "Assist: 4\n",
      "Cartellini gialli: 1\n",
      "Cartellini rossi: 0\n",
      "Percentuale di partite da titolare: 90.48%\n",
      "Percentuale di minuti in campo: 88.83597883597884%\n",
      "Competizione: Supercoppa Italiana\n",
      "Partite giocate: 1\n",
      "Goal fatti: 1\n",
      "Assist: 0\n",
      "Cartellini gialli: 1\n",
      "Cartellini rossi: 0\n",
      "Percentuale di partite da titolare: 100%\n",
      "Percentuale di minuti in campo: 100%\n",
      "Competizione: Champions League\n",
      "Partite giocate: 6\n",
      "Goal fatti: 1\n",
      "Assist: 2\n",
      "Cartellini gialli: 2\n",
      "Cartellini rossi: 0\n",
      "Percentuale di partite da titolare: 83.33%\n",
      "Percentuale di minuti in campo: 79.81481481481481%\n",
      "Competizione: Coppa Italia\n",
      "Partite giocate: 2\n",
      "Goal fatti: 1\n",
      "Assist: 1\n",
      "Cartellini gialli: 1\n",
      "Cartellini rossi: 0\n",
      "Percentuale di partite da titolare: 100%\n",
      "Percentuale di minuti in campo: 97.61904761904762%\n"
     ]
    }
   ],
   "source": [
    "idPlayer = playercode.rsplit('/', 1)[1]\n",
    "urlPerformance = requests.get(\"https://www.transfermarkt.it/ceapi/player/\"+str(idPlayer)+\"/performance\",headers={'User-Agent': 'Custom'})\n",
    "\n",
    "statsplayer = urlPerformance.text\n",
    "if statsplayer == '[]':\n",
    "    print('Nessuna statistica')\n",
    "else:    \n",
    "    stats = statsplayer.split('}')\n",
    "    #stats = stats.split('')\n",
    "    res = {}\n",
    "    count = 0\n",
    "    for i in stats:\n",
    "        i = i + '}'\n",
    "        i = re.sub(r'^.*?{', '{', i)\n",
    "        res[count] = i\n",
    "        count = count + 1\n",
    "    res.pop(count-1)\n",
    "    print('Nome giocatore: '+ nome)\n",
    "    print('Numero Maglia: '+ num)\n",
    "    for i in res:\n",
    "        res[i] = json.loads(res[i])\n",
    "        if(res[i]['goalkeeper'] == False):   \n",
    "            print('Competizione: '+ res[i]['competitionDescription']+'\\n'+\n",
    "                  'Partite giocate: '+ str(res[i]['gamesPlayed'])+'\\n'+\n",
    "                  'Goal fatti: '+ str(res[i]['goalsScored'])+'\\n'+\n",
    "                  'Assist: '+ str(res[i]['assists'])+'\\n'+\n",
    "                  'Cartellini gialli: '+ str(res[i]['yellowCards'])+'\\n'+\n",
    "                  'Cartellini rossi: '+ str(res[i]['redCards'])+'\\n'+\n",
    "                  'Percentuale di partite da titolare: '+ str(round(res[i]['startElevenPercent'],2))+\"%\"+'\\n'+  \n",
    "                  'Percentuale di minuti in campo: '+ str(res[i]['minutesPlayedPercent'])+\"%\")\n",
    "        else:\n",
    "            print('Competizione: '+ res[i]['competitionDescription']+'\\n'+\n",
    "                  'Goal subiti: '+ str(res[i]['concededGoals'])+'\\n'+\n",
    "                  'Clean sheets: '+ str(res[i]['cleanSheets'])+'\\n'+\n",
    "                  'Rigori parati: '+ str(res[i]['blockedPenaltyPercent'])+'\\n'+\n",
    "                  'Minuti giocati: '+ str(res[i]['minutesPlayed'])+'\\n'+\n",
    "                  'Percentuale di minuti in campo: '+ str(round(res[i]['minutesPlayedPercent'],2))+\"%\")\n",
    "                  "
   ]
  },
  {
   "cell_type": "code",
   "execution_count": 14,
   "id": "3f6eaa9f",
   "metadata": {},
   "outputs": [
    {
     "data": {
      "text/plain": [
       "['[{\"detailedStatsLink\":\"\\\\/paul-pogba\\\\/leistungsdatendetails\\\\/spieler\\\\/122153\\\\/wettbewerb\\\\/IT1\\\\/saison\\\\/2022\",\"competitionDescription\":\"Serie A\",\"logo\":\"https:\\\\/\\\\/tmssl.akamaized.net\\\\/images\\\\/logo\\\\/normal\\\\/it1.png?lm=1656073460\",\"nameSeason\":\"22\\\\/23\",\"possibleGames\":20,\"gamesPlayed\":0,\"goalsScored\":0,\"assists\":0,\"yellowCards\":0,\"secondYellowCards\":0,\"redCards\":0,\"startElevenPercent\":0,\"minutesPlayedPercent\":0,\"goalsContributedPercent\":0,\"goalkeeper\":false,\"concededGoals\":0,\"cleanSheets\":0,\"blockedPenaltyPercent\":0,\"minutesPlayed\":0',\n",
       " ']']"
      ]
     },
     "execution_count": 14,
     "metadata": {},
     "output_type": "execute_result"
    }
   ],
   "source": [
    "stats"
   ]
  },
  {
   "cell_type": "code",
   "execution_count": 47,
   "id": "5a874e41",
   "metadata": {},
   "outputs": [
    {
     "ename": "SyntaxError",
     "evalue": "invalid syntax (2206738955.py, line 2)",
     "output_type": "error",
     "traceback": [
      "\u001b[1;36m  File \u001b[1;32m\"C:\\Users\\danie\\AppData\\Local\\Temp\\ipykernel_6504\\2206738955.py\"\u001b[1;36m, line \u001b[1;32m2\u001b[0m\n\u001b[1;33m    match info:\u001b[0m\n\u001b[1;37m          ^\u001b[0m\n\u001b[1;31mSyntaxError\u001b[0m\u001b[1;31m:\u001b[0m invalid syntax\n"
     ]
    }
   ],
   "source": [
    "info = \"info\"\n",
    "match info:\n",
    "    case \"info\":\n",
    "        print(\"pippo\")\n",
    "        \n",
    "    case \"stats\":\n",
    "        print(\"paperino\")"
   ]
  },
  {
   "cell_type": "code",
   "execution_count": 48,
   "id": "22d2f0fa",
   "metadata": {},
   "outputs": [],
   "source": [
    "\"class\" : \"box viewport-tracking\""
   ]
  },
  {
   "cell_type": "code",
   "execution_count": null,
   "id": "c2ef1a08",
   "metadata": {},
   "outputs": [],
   "source": []
  },
  {
   "cell_type": "code",
   "execution_count": 30,
   "id": "a8a171bc",
   "metadata": {},
   "outputs": [
    {
     "name": "stdout",
     "output_type": "stream",
     "text": [
      "Stagione\t\tTrasferimento\t\t\tCosto\n",
      "🗓️ 18/19     Racing 🛫 ➡️ 🛬 Inter     💰 25,00 mln €\n",
      "🗓️ 15/16     Racing Club U20 🛫 ➡️ 🛬 Racing     🆓 \n",
      "🗓️ 13/14     Liniers 🛫 ➡️ 🛬 Racing Club U20     💰 ?\n"
     ]
    }
   ],
   "source": [
    "transfer= soup.find(\"div\",{\"data-viewport\": \"Transferhistorie\"})\n",
    "transfer = transfer.findAll(\"div\",{\"class\": \"grid tm-player-transfer-history-grid\"})\n",
    "seasons = []\n",
    "print (\"Stagione\" + '\\t\\t'+ \"Trasferimento\" + '\\t\\t\\t' + \"Costo\")\n",
    "for index,item in enumerate(transfer):\n",
    "    season = item.find(\"div\",{\"class\": \"grid__cell grid__cell--center tm-player-transfer-history-grid__season\"})\n",
    "    season = season.text\n",
    "    season = \" \".join(season.split())\n",
    "    date = item.find(\"div\",{\"class\": \"grid__cell grid__cell--center tm-player-transfer-history-grid__date\"})\n",
    "    date = date.text\n",
    "    date = \" \".join(date.split())\n",
    "    oldclub = item.find(\"div\",{\"class\": \"grid__cell grid__cell--center tm-player-transfer-history-grid__old-club\"})\n",
    "    oldclub = oldclub.text\n",
    "    oldclub = \" \".join(oldclub.split())\n",
    "    newclub = item.find(\"div\",{\"class\": \"grid__cell grid__cell--center tm-player-transfer-history-grid__new-club\"})\n",
    "    newclub = newclub.text\n",
    "    newclub = \" \".join(newclub.split())\n",
    "    marketvalue = item.find(\"div\",{\"class\": \"grid__cell grid__cell--center tm-player-transfer-history-grid__market-value\"})\n",
    "    marketvalue = marketvalue.text\n",
    "    marketvalue = \" \".join(marketvalue.split())\n",
    "    if marketvalue == \"-\": marketvalue = \"n.d.\"\n",
    "    cost = item.find(\"div\",{\"class\": \"grid__cell grid__cell--center tm-player-transfer-history-grid__fee\"})\n",
    "    cost = cost.text\n",
    "    cost = \" \".join(cost.split())\n",
    "    if cost == \"-\" or cost == \"gratuito\": cost = (emoji.emojize(':FREE_button: '  ))\n",
    "    elif cost == \"Prestito\" : cost = (emoji.emojize(':ON!_arrow: ' + cost  )) \n",
    "    elif cost == \"Fine prestito\" : cost = (emoji.emojize(':BACK_arrow: ' + cost  ))\n",
    "    else: cost = (emoji.emojize(':money_bag: ' + cost  ))   \n",
    "    movement = (emoji.emojize(oldclub + ' :airplane_departure: :right_arrow: :airplane_arrival: '+newclub ))\n",
    "    season = (emoji.emojize(':spiral_calendar: ' + season ))\n",
    "    \n",
    "    row = (season + '     '+ movement + '     ' + cost)\n",
    "    print(row)"
   ]
  },
  {
   "cell_type": "code",
   "execution_count": null,
   "id": "25a2924f",
   "metadata": {},
   "outputs": [],
   "source": [
    "a = \"Braunschweig\"\n",
    "        Orduspor\n",
    "        Balikesirspor\n",
    "        Kayseri Erciyesspor\n",
    "        Mersin Idmanyurdu\n",
    "        Livorno\n",
    "        Catania\n",
    "        Dordrecht\n",
    "        Spartak Vladikavkaz\n",
    "        Volga Nizhniy Novgorod\n",
    "        Mordovia Saransk\n",
    "        Real Saragossa\n",
    "        Beerschot\n",
    "        Raec Mons\n",
    "        Lierse\n",
    "        Sc Beira Mar\n",
    "        Sc Olhanense\n",
    "        Fc Penafiel\n",
    "        Cf Uniao Madeira\n",
    "        Sk Tavriya Simferopol\n",
    "        Fk Sevastopol\n",
    "        Metalurg Donetsk\n",
    "        Metalurg Zaporizhya Bis 2016\n",
    "        Goverla Uzhgorod\n",
    "        Metalist Kharkiv\n",
    "        Thonon Evian Grand Geneve Fc\n",
    "        Ajaccio\n",
    "        Niki Volou\n",
    "        Gs Ergotelis\n",
    "        Ael Kalloni\n",
    "        Panthrakikos Komotini\n",
    "        Fc Vestsjaelland\n",
    "        Kuban Krasnodar\n",
    "        Academica Coimbra\n",
    "        Volyn Lutsk\n",
    "        Dnipro Dnipropetrovsk\n",
    "        Veria Nps\n",
    "        Gaziantepspor\n",
    "        Iraklis Thessaloniki\n",
    "        As Nancy Lorraine\n",
    "        Sc Bastia\n",
    "        Fc Malaga\n",
    "        Zirka Kropyvnytskyi\n",
    "        Fc Helsingor\n",
    "        Pfk Stal Kamyanske\n",
    "        Kardemir Karabukspor\n",
    "        Ao Platanias\n",
    "        Aok Kerkyra\n",
    "        Partick Thistle Fc\n",
    "        Fk Tosno\n",
    "        Amkar Perm\n",
    "        Ksc Lokeren\n",
    "        De Graafschap Doetinchem\n",
    "        Arsenal Kiew\n",
    "        Panionios Athen\n",
    "        Ao Xanthi\n",
    "        Esbjerg Fb\n",
    "        Karpaty Lviv\n",
    "        Vitoria Setubal Fc\n",
    "        Desportivo Aves\n",
    "        Royal Excel Mouscron\n",
    "        Olimpik Donetsk\n",
    "        Hamilton Academical Fc\n",
    "        Denizlispor\n",
    "        Buyuksehir Belediye Erzurumspor\n",
    "        Genclerbirligi Ankara\n",
    "        Pfk Tambov\n",
    "        Dundee Fc\n",
    "        Apollon Smyrnis\n",
    "        Caykur Rizespor\n",
    "        Fk Mariupol\n",
    "        Pec Zwolle\n",
    "        Rfc Seraing\n",
    "        St Mirren Fc\n",
    "        Alanyaspor\n",
    "        Umraniyespor\n",
    "        Motherwell Fc\n",
    "        Pfk Lviv\n",
    "        Fk Minaj\n",
    "        Livingston Fc\n",
    "        Metalist 1925 Kharkiv\n",
    "        Ingulets Petrove\n",
    "        Kryvbas Kryvyi Rig\n",
    "        Kilmarnock Fc\n",
    "        Chornomorets Odessa\n",
    "        Apo Levadiakos\n",
    "        Ionikos Nikeas\n",
    "        Asteras Tripolis\n",
    "        Panetolikos Gfs\n",
    "        Fk Oleksandriya\n",
    "        Pas Lamia 1964\n",
    "        St Johnstone Fc\n",
    "        Lyngby Bk\n",
    "        Athletic Bilbao\n",
    "        Fc Volendam\n",
    "        Fc Emmen\n",
    "        Fc Reading\n",
    "        Wigan Athletic\n",
    "        Queens Park Rangers\n",
    "        Elazigspor\n",
    "        Eskisehirspor\n",
    "        Acn Siena 1904\n",
    "        Cesena Fc\n",
    "        Carpi Fc 1909\n",
    "        Fc Cordoba\n",
    "        Fc Valenciennes\n",
    "        Fc Sochaux Montbeliard\n",
    "        Tom Tomsk\n",
    "        Inverness Caledonian Thistle Fc\n",
    "        Sv Darmstadt 98\n",
    "        Fc Ingolstadt 04\n",
    "        Adanaspor\n",
    "        Delfino Pescara 1936\n",
    "        Palermo Fc\n",
    "        Afc Sunderland\n",
    "        Fc Middlesbrough\n",
    "        Hull City\n",
    "        Sporting Gijon\n",
    "        Hamburger Sv\n",
    "        Ska Khabarovsk\n",
    "        Roda Jc Kerkrade\n",
    "        Ankaraspor\n",
    "        Deportivo La Coruna\n",
    "        Ud Las Palmas\n",
    "        Stoke City\n",
    "        Swansea City\n",
    "        Anzhi Makhachkala\n",
    "        Vendsyssel Ff\n",
    "        Chievo Verona\n",
    "        Frosinone Calcio\n",
    "        Akhisarspor\n",
    "        Bursaspor\n",
    "        Nac Breda\n",
    "        Ea Guingamp\n",
    "        Cardiff City\n",
    "        Sm Caen\n",
    "        Huddersfield Town\n",
    "        Enisey Krasnoyarsk\n",
    "        Hannover 96\n",
    "        1 Fc Nurnberg\n",
    "        Cd Feirense\n",
    "        Brescia Calcio\n",
    "        Spal\n",
    "        Hobro Ik\n",
    "        Cd Leganes\n",
    "        Fortuna Dusseldorf\n",
    "        Amiens Sc\n",
    "        Sc Paderborn 07\n",
    "        Cd Nacional\n",
    "        Nimes Olympique\n",
    "        Vvv Venlo\n",
    "        Benevento Calcio\n",
    "        Fc Crotone\n",
    "        Parma Calcio 1913\n",
    "        Ae Larisa\n",
    "        Ado Den Haag\n",
    "        West Bromwich Albion\n",
    "        Sd Eibar\n",
    "        Sd Huesca\n",
    "        Sheffield United\n",
    "        Dijon Fco\n",
    "        Waasland Beveren\n",
    "        Rotor Volgograd\n",
    "        Sc Farense\n",
    "        Fc Metz\n",
    "        Spvgg Greuther Furth\n",
    "        Vejle Boldklub\n",
    "        Fc Burnley\n",
    "        Yeni Malatyaspor\n",
    "        Venezia Fc\n",
    "        Altay Sk\n",
    "        Goztepe\n",
    "        Cagliari Calcio\n",
    "        Genoa Cfc\n",
    "        Sonderjyske\n",
    "        Desna Chernigiv\n",
    "        Norwich City\n",
    "        Fc Watford\n",
    "        Deportivo Alaves\n",
    "        Fc Granada\n",
    "        Arminia Bielefeld\n",
    "        Beerschot V A\n",
    "        Moreirense Fc\n",
    "        Belenenses Sad\n",
    "        Ud Levante\n",
    "        Willem Ii Tilburg\n",
    "        Heracles Almelo\n",
    "        Cd Tondela\n",
    "        Arsenal Tula\n",
    "        Rubin Kazan\n",
    "        Fk Ufa\n",
    "        Fc Girondins Bordeaux\n",
    "        As Saint Etienne\n",
    "        Fc Twente Enschede\n",
    "        Fakel Voronezh\n",
    "        Sbv Excelsior Rotterdam\n",
    "        Feyenoord Rotterdam\n",
    "        Fc Schalke 04\n",
    "        Ac Horsens\n",
    "        Az Alkmaar\n",
    "        Sv Zulte Waregem\n",
    "        Vfl Bochum\n",
    "        Vv St Truiden\n",
    "        Inter Milan\n",
    "        Kas Eupen\n",
    "        Psv Eindhoven\n",
    "        Giresunspor\n",
    "        Ross County Fc\n",
    "        Kasimpasa\n",
    "        Ajax Amsterdam\n",
    "        Kayserispor\n",
    "        Mke Ankaragucu\n",
    "        Konyaspor\n",
    "        Sivasspor\n",
    "        Istanbulspor\n",
    "        Hatayspor\n",
    "        Istanbul Basaksehir Fk\n",
    "        Besiktas Istanbul\n",
    "        Trabzonspor\n",
    "        Fatih Karagumruk\n",
    "        Fenerbahce Istanbul\n",
    "        Spezia Calcio\n",
    "        Us Lecce\n",
    "        Sampdoria\n",
    "        Fc Empoli\n",
    "        Us Salernitana 1919\n",
    "        Us Cremonese\n",
    "        Hellas Verona\n",
    "        Ac Monza\n",
    "        Fc Bologna\n",
    "        Antalyaspor\n",
    "        Us Sassuolo\n",
    "        Fc Torino\n",
    "        Lazio Roma\n",
    "        Ac Fiorentina\n",
    "        Atalanta Bergamo\n",
    "        Gaziantep Fk\n",
    "        Ssc Napoli\n",
    "        Juventus Torino\n",
    "        Ac Milan\n",
    "        Aberdeen Fc\n",
    "        Adana Demirspor\n",
    "        As Roma\n",
    "        Heart Of Midlothian Fc\n",
    "        Celtic Glasgow\n",
    "        Glasgow Rangers\n",
    "        Nk Veres Rivne\n",
    "        Rukh Lviv\n",
    "        Hibernian Fc\n",
    "        Kolos Kovalivka\n",
    "        Galatasaray Istanbul\n",
    "        Vorskla Poltava\n",
    "        Sk Dnipro 1\n",
    "        Shakhtar Donetsk\n",
    "        Dynamo Kiew\n",
    "        Pas Giannina\n",
    "        Atromitos Athen\n",
    "        Volos Nps\n",
    "        Ofi Kreta\n",
    "        Zorya Lugansk\n",
    "        Panathinaikos Athen\n",
    "        Metal Kharkiv\n",
    "        Aris Thessaloniki\n",
    "        Dundee United Fc\n",
    "        Paok Thessaloniki\n",
    "        Fc Fulham\n",
    "        Leeds United\n",
    "        Olympiakos Piraus\n",
    "        Nottingham Forest\n",
    "        Fc Brentford\n",
    "        Wolverhampton Wanderers\n",
    "        Newcastle United\n",
    "        Brighton Amp Hove Albion\n",
    "        Afc Bournemouth\n",
    "        Udinese Calcio\n",
    "        West Ham United\n",
    "        Fc Arsenal\n",
    "        Tottenham Hotspur\n",
    "        Aek Athen\n",
    "        Fc Liverpool\n",
    "        Fc Southampton\n",
    "        Manchester United\n",
    "        Kv Kortrijk\n",
    "        Kv Oostende\n",
    "        Crystal Palace\n",
    "        Kv Mechelen\n",
    "        Manchester City\n",
    "        Aston Villa\n",
    "        Cercle Brugge\n",
    "        Rsc Charleroi\n",
    "        Kaa Gent\n",
    "        Leicester City\n",
    "        Krc Genk\n",
    "        Rsc Anderlecht\n",
    "        Oud Heverlee Leuven\n",
    "        Fc Everton\n",
    "        Silkeborg If\n",
    "        Royal Antwerpen Fc\n",
    "        Fc Brugge\n",
    "        Royale Union Saint Gilloise\n",
    "        Viborg Ff\n",
    "        Fc Chelsea\n",
    "        Aarhus Gf\n",
    "        Brondby If\n",
    "        Fc Kopenhagen\n",
    "        Gd Chaves\n",
    "        Kvc Westerlo\n",
    "        Casa Pia Ac\n",
    "        Fc Vizela\n",
    "        Cs Maritimo\n",
    "        Rio Ave Fc\n",
    "        Portimonense Sc\n",
    "        Boavista Porto Fc\n",
    "        Aalborg Bk\n",
    "        Odense Boldklub\n",
    "        Fc Pacos De Ferreira\n",
    "        Fc Arouca\n",
    "        Vitoria Guimaraes Sc\n",
    "        Standard Luttich\n",
    "        Gil Vicente Fc\n",
    "        Sporting Lissabon\n",
    "        Fc Porto\n",
    "        Benfica Lissabon\n",
    "        Gd Estoril Praia\n",
    "        1 Fc Koln\n",
    "        Fc Augsburg\n",
    "        Hertha Bsc\n",
    "        Cd Santa Clara\n",
    "        Sv Werder Bremen\n",
    "        Vfb Stuttgart\n",
    "        Sc Freiburg\n",
    "        Fc Midtjylland\n",
    "        Borussia Monchengladbach\n",
    "        Fc Nordsjaelland\n",
    "        Eintracht Frankfurt\n",
    "        Fc Famalicao\n",
    "        1 Fsv Mainz 05\n",
    "        Rasenballsport Leipzig\n",
    "        Tsg 1899 Hoffenheim\n",
    "        Fc Bayern Munchen\n",
    "        Fc Cadiz\n",
    "        Borussia Dortmund\n",
    "        Rcd Mallorca\n",
    "        Rayo Vallecano\n",
    "        Randers Fc\n",
    "        Fc Girona\n",
    "        Espanyol Barcelona\n",
    "        Ca Osasuna\n",
    "        1 Fc Union Berlin\n",
    "        Fc Getafe\n",
    "        Fc Valencia\n",
    "        Celta Vigo\n",
    "        Sc Braga\n",
    "        Vfl Wolfsburg\n",
    "        Fc Villarreal\n",
    "        Atletico Madrid\n",
    "        Fc Barcelona\n",
    "        Real Valladolid\n",
    "        Fk Orenburg\n",
    "        Torpedo Moskau\n",
    "        Ud Almeria\n",
    "        Fc Elche\n",
    "        Real Betis Sevilla\n",
    "        Fk Nizhny Novgorod\n",
    "        Fk Sochi\n",
    "        Krylya Sovetov Samara\n",
    "        Real Madrid\n",
    "        Fk Rostov\n",
    "        Fk Krasnodar\n",
    "        Lokomotiv Moskau\n",
    "        Spartak Moskau\n",
    "        Dinamo Moskau\n",
    "        Zenit St Petersburg\n",
    "        Zska Moskau\n",
    "        Fc Sevilla\n",
    "        Clermont Foot 63\n",
    "        Aj Auxerre\n",
    "        Sco Angers\n",
    "        Ac Ajaccio\n",
    "        Stade Brest 29\n",
    "        Fc Lorient\n",
    "        Ural Ekaterinburg\n",
    "        Rc Strassburg Alsace\n",
    "        Montpellier Hsc\n",
    "        Fc Nantes\n",
    "        Fk Khimki\n",
    "        Losc Lille\n",
    "        Ogc Nizza\n",
    "        Olympique Marseille\n",
    "        Akhmat Grozny\n",
    "        Fc Stade Rennes\n",
    "        Fc Toulouse\n",
    "        Bayer 04 Leverkusen\n",
    "        Go Ahead Eagles Deventer\n",
    "        Sparta Rotterdam\n",
    "        Real Sociedad San Sebastian\n",
    "        Rkc Waalwijk\n",
    "        Sc Cambuur Leeuwarden\n",
    "        Fortuna Sittard\n",
    "        Sc Heerenveen\n",
    "        Fc Groningen\n",
    "        Fc Paris Saint Germain\n",
    "        Vitesse Arnheim\n",
    "        Fc Utrecht\n",
    "        Olympique Lyon\n",
    "        As Monaco\n",
    "        Rc Lens\n",
    "        Nec Nijmegen\n",
    "        Stade Reims\n",
    "        Es Troyes Ac\"\n"
   ]
  }
 ],
 "metadata": {
  "kernelspec": {
   "display_name": "Python 3 (ipykernel)",
   "language": "python",
   "name": "python3"
  },
  "language_info": {
   "codemirror_mode": {
    "name": "ipython",
    "version": 3
   },
   "file_extension": ".py",
   "mimetype": "text/x-python",
   "name": "python",
   "nbconvert_exporter": "python",
   "pygments_lexer": "ipython3",
   "version": "3.9.13"
  }
 },
 "nbformat": 4,
 "nbformat_minor": 5
}
